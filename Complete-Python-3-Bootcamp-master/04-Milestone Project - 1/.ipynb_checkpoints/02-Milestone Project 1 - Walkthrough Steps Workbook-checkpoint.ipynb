{
 "cells": [
  {
   "cell_type": "markdown",
   "metadata": {},
   "source": [
    "# Milestone Project 1: Walkthrough Steps Workbook\n",
    "\n",
    "Below is a set of steps for you to follow to try to create the Tic Tac Toe Milestone Project game!"
   ]
  },
  {
   "cell_type": "markdown",
   "metadata": {},
   "source": [
    "#### Some suggested tools before you get started:\n",
    "To take input from a user:\n",
    "\n",
    "    player1 = input(\"Please pick a marker 'X' or 'O'\")\n",
    "    \n",
    "Note that input() takes in a string. If you need an integer value, use\n",
    "\n",
    "    position = int(input('Please enter a number'))\n",
    "    \n",
    "<br>To clear the screen between moves:\n",
    "\n",
    "    from IPython.display import clear_output\n",
    "    clear_output()\n",
    "    \n",
    "Note that clear_output() will only work in jupyter. To clear the screen in other IDEs, consider:\n",
    "\n",
    "    print('\\n'*100)\n",
    "    \n",
    "This scrolls the previous board up out of view. Now on to the program!"
   ]
  },
  {
   "cell_type": "markdown",
   "metadata": {},
   "source": [
    "**Step 1: Write a function that can print out a board. Set up your board as a list, where each index 1-9 corresponds with a number on a number pad, so you get a 3 by 3 board representation.**"
   ]
  },
  {
   "cell_type": "code",
   "execution_count": 2,
   "metadata": {},
   "outputs": [],
   "source": [
    "from IPython.display import clear_output\n",
    "\n",
    "def display_board(board):\n",
    "    \n",
    "    print(board[6]+ '|'+ board[7] + '|'+ board[8]+'\\t'+'|7|8|9|')\n",
    "    print(board[3]+ '|'+ board[4] + '|'+ board[5]+'\\t'+'|4|5|6|')\n",
    "    print(board[0]+ '|'+ board[1] + '|'+ board[2]+'\\t'+'|1|2|3|')"
   ]
  },
  {
   "cell_type": "markdown",
   "metadata": {},
   "source": [
    "**TEST Step 1:** run your function on a test version of the board list, and make adjustments as necessary"
   ]
  },
  {
   "cell_type": "code",
   "execution_count": 3,
   "metadata": {},
   "outputs": [
    {
     "name": "stdout",
     "output_type": "stream",
     "text": [
      "O|X|O\t|7|8|9|\n",
      "X|X|X\t|4|5|6|\n",
      "#|X|X\t|1|2|3|\n"
     ]
    }
   ],
   "source": [
    "test_board = ['#','X','X','X','X','X','O','X','O','X']\n",
    "display_board(test_board)"
   ]
  },
  {
   "cell_type": "markdown",
   "metadata": {},
   "source": [
    "**Step 2: Write a function that can take in a player input and assign their marker as 'X' or 'O'. Think about using *while* loops to continually ask until you get a correct answer.**"
   ]
  },
  {
   "cell_type": "code",
   "execution_count": 4,
   "metadata": {},
   "outputs": [],
   "source": [
    "def player_input():\n",
    "    valid_input = False\n",
    "    while ~valid_input:\n",
    "        player1 = input('Select a marker -> X or O : ')\n",
    "        if player1 in ['X','O']:\n",
    "            valid_input = True \n",
    "            if player1 == 'X':\n",
    "                return player1, 'O'\n",
    "            else:\n",
    "                return player1, 'X'\n",
    "        else:\n",
    "            clear_output()\n",
    "            print(\"You have entered an invalid input, retry !!!\")\n",
    "            "
   ]
  },
  {
   "cell_type": "markdown",
   "metadata": {},
   "source": [
    "**TEST Step 2:** run the function to make sure it returns the desired output"
   ]
  },
  {
   "cell_type": "code",
   "execution_count": 21,
   "metadata": {},
   "outputs": [],
   "source": [
    "#player_input()"
   ]
  },
  {
   "cell_type": "markdown",
   "metadata": {},
   "source": [
    "**Step 3: Write a function that takes in the board list object, a marker ('X' or 'O'), and a desired position (number 1-9) and assigns it to the board.**"
   ]
  },
  {
   "cell_type": "code",
   "execution_count": 5,
   "metadata": {},
   "outputs": [],
   "source": [
    "def place_marker(board, marker, position):\n",
    "    board[position-1]=marker"
   ]
  },
  {
   "cell_type": "markdown",
   "metadata": {},
   "source": [
    "**TEST Step 3:** run the place marker function using test parameters and display the modified board"
   ]
  },
  {
   "cell_type": "code",
   "execution_count": 6,
   "metadata": {},
   "outputs": [
    {
     "name": "stdout",
     "output_type": "stream",
     "text": [
      "O|$|O\t|7|8|9|\n",
      "X|X|X\t|4|5|6|\n",
      "#|X|X\t|1|2|3|\n"
     ]
    }
   ],
   "source": [
    "place_marker(test_board,'$',8)\n",
    "display_board(test_board)"
   ]
  },
  {
   "cell_type": "markdown",
   "metadata": {},
   "source": [
    "**Step 4: Write a function that takes in a board and a mark (X or O) and then checks to see if that mark has won. **"
   ]
  },
  {
   "cell_type": "code",
   "execution_count": 7,
   "metadata": {},
   "outputs": [],
   "source": [
    "def win_check(board, mark):\n",
    "    for i in range(3):\n",
    "        if board[3*i]==board[3*i+1]==board[3*i+2]==mark:\n",
    "            return True\n",
    "        elif board[i]==board[i+3]==board[i+6]==mark:\n",
    "            return True\n",
    "    if board[0]==board[4]==board[8]==mark:\n",
    "        return True\n",
    "    elif board[2]==board[4]==board[6]==mark:\n",
    "        return True\n",
    "    else:\n",
    "        return False"
   ]
  },
  {
   "cell_type": "markdown",
   "metadata": {},
   "source": [
    "**TEST Step 4:** run the win_check function against our test_board - it should return True"
   ]
  },
  {
   "cell_type": "code",
   "execution_count": 8,
   "metadata": {},
   "outputs": [
    {
     "data": {
      "text/plain": [
       "True"
      ]
     },
     "execution_count": 8,
     "metadata": {},
     "output_type": "execute_result"
    }
   ],
   "source": [
    "win_check(test_board,'X')"
   ]
  },
  {
   "cell_type": "markdown",
   "metadata": {},
   "source": [
    "**Step 5: Write a function that uses the random module to randomly decide which player goes first. You may want to lookup random.randint() Return a string of which player went first.**"
   ]
  },
  {
   "cell_type": "code",
   "execution_count": 9,
   "metadata": {},
   "outputs": [],
   "source": [
    "import random\n",
    "\n",
    "def choose_first():\n",
    "    return random.randint(0,1)"
   ]
  },
  {
   "cell_type": "code",
   "execution_count": 10,
   "metadata": {},
   "outputs": [
    {
     "data": {
      "text/plain": [
       "1"
      ]
     },
     "execution_count": 10,
     "metadata": {},
     "output_type": "execute_result"
    }
   ],
   "source": [
    "choose_first()"
   ]
  },
  {
   "cell_type": "markdown",
   "metadata": {},
   "source": [
    "**Step 6: Write a function that returns a boolean indicating whether a space on the board is freely available.**"
   ]
  },
  {
   "cell_type": "code",
   "execution_count": 11,
   "metadata": {},
   "outputs": [],
   "source": [
    "def space_check(board, position):\n",
    "    return board[position-1]== ' '"
   ]
  },
  {
   "cell_type": "markdown",
   "metadata": {},
   "source": [
    "**Step 7: Write a function that checks if the board is full and returns a boolean value. True if full, False otherwise.**"
   ]
  },
  {
   "cell_type": "code",
   "execution_count": 12,
   "metadata": {},
   "outputs": [],
   "source": [
    "def full_board_check(board):\n",
    "    return ' ' in board"
   ]
  },
  {
   "cell_type": "markdown",
   "metadata": {},
   "source": [
    "**Step 8: Write a function that asks for a player's next position (as a number 1-9) and then uses the function from step 6 to check if it's a free position. If it is, then return the position for later use.**"
   ]
  },
  {
   "cell_type": "code",
   "execution_count": 13,
   "metadata": {},
   "outputs": [],
   "source": [
    "def player_choice(board):\n",
    "    valid_input = False\n",
    "    while valid_input==False:\n",
    "        position = input(\"Enter the position to enter value (1-9): \")\n",
    "        if position.isdigit() == False:\n",
    "            print(\"You have entered a wrong input, try again..!\")\n",
    "            valid_input = False            \n",
    "        elif int(position) in range(1,10):\n",
    "            if space_check(board, int(position)):\n",
    "                #valid_input = True\n",
    "                return int(position)\n",
    "            else:\n",
    "                print(\"Sorry, the entered position is not free, try again..!\")\n",
    "        else:\n",
    "            print(\"You have entered a wrong input, try again..!\")"
   ]
  },
  {
   "cell_type": "markdown",
   "metadata": {},
   "source": [
    "**Step 9: Write a function that asks the player if they want to play again and returns a boolean True if they do want to play again.**"
   ]
  },
  {
   "cell_type": "code",
   "execution_count": 14,
   "metadata": {},
   "outputs": [],
   "source": [
    "def replay():\n",
    "    status = False\n",
    "    while status==False:\n",
    "        value = input(\"Do you want to play? Y or N : \")\n",
    "        if value == 'Y':\n",
    "            status = True\n",
    "            clear_output()\n",
    "            return True\n",
    "        elif value == 'N':\n",
    "            status = True            \n",
    "            return False\n",
    "        else:\n",
    "            clear_output()\n",
    "            print(\"Invalid Entry..!! Try again\")\n"
   ]
  },
  {
   "cell_type": "code",
   "execution_count": 32,
   "metadata": {},
   "outputs": [],
   "source": [
    "#replay()"
   ]
  },
  {
   "cell_type": "markdown",
   "metadata": {
    "collapsed": true
   },
   "source": [
    "**Step 10: Here comes the hard part! Use while loops and the functions you've made to run the game!**"
   ]
  },
  {
   "cell_type": "code",
   "execution_count": 15,
   "metadata": {},
   "outputs": [
    {
     "name": "stdout",
     "output_type": "stream",
     "text": [
      "Invalid Entry..!! Try again\n",
      "Do you want to play? Y or N : N\n"
     ]
    }
   ],
   "source": [
    "\n",
    "while True:\n",
    "    \n",
    "    # Set the game up here\n",
    "    print('Welcome to Tic Tac Toe!')\n",
    "    board = [' ']*9\n",
    "    marker = ['X', 'Y']\n",
    "    \n",
    "    game_on = True\n",
    "    \n",
    "    #player = choose_first()\n",
    "    #print('Player {} moves first '.format(player+1))\n",
    "    \n",
    "    marker =player_input()\n",
    "    display_board(board)   \n",
    "\n",
    "    while game_on:\n",
    "        \n",
    "        for pos, i in enumerate(marker):\n",
    "            \n",
    "            print(\"Enter for Player {}'s move, position for {}\".format(pos+1, i))\n",
    "            position = player_choice(board)\n",
    "            \n",
    "            place_marker(board, i, position)\n",
    "            \n",
    "            display_board(board)\n",
    "            \n",
    "            won = win_check(board, i)\n",
    "            \n",
    "            free = full_board_check(board)\n",
    "            \n",
    "            if won == True:\n",
    "                print(\"Player {} Has won..\".format(pos+1))\n",
    "                game_on = False\n",
    "                break\n",
    "                \n",
    "            elif free == False and won == False:\n",
    "                print(\"Game Over.. Its a Tie\")\n",
    "                game_on = False\n",
    "                break\n",
    "    \n",
    "        \n",
    "            \n",
    "    if not replay():\n",
    "        break\n"
   ]
  },
  {
   "cell_type": "markdown",
   "metadata": {
    "collapsed": true
   },
   "source": [
    "## Good Job!"
   ]
  }
 ],
 "metadata": {
  "kernelspec": {
   "display_name": "Python 3",
   "language": "python",
   "name": "python3"
  },
  "language_info": {
   "codemirror_mode": {
    "name": "ipython",
    "version": 3
   },
   "file_extension": ".py",
   "mimetype": "text/x-python",
   "name": "python",
   "nbconvert_exporter": "python",
   "pygments_lexer": "ipython3",
   "version": "3.8.3"
  }
 },
 "nbformat": 4,
 "nbformat_minor": 1
}
