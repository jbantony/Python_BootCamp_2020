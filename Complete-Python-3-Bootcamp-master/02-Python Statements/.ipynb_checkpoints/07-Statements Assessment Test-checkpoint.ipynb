{
 "cells": [
  {
   "cell_type": "markdown",
   "metadata": {
    "collapsed": true
   },
   "source": [
    "# Statements Assessment Test\n",
    "Let's test your knowledge!"
   ]
  },
  {
   "cell_type": "markdown",
   "metadata": {},
   "source": [
    "_____\n",
    "**Use <code>for</code>, .split(), and <code>if</code> to create a Statement that will print out words that start with 's':**"
   ]
  },
  {
   "cell_type": "code",
   "execution_count": 1,
   "metadata": {},
   "outputs": [],
   "source": [
    "st = 'Print only the words that start with s in this sentence'"
   ]
  },
  {
   "cell_type": "code",
   "execution_count": 2,
   "metadata": {},
   "outputs": [
    {
     "name": "stdout",
     "output_type": "stream",
     "text": [
      "start\n",
      "s\n",
      "sentence\n"
     ]
    }
   ],
   "source": [
    "list1 = st.split()\n",
    "\n",
    "for item in list1:\n",
    "    if item[0] == 's':\n",
    "        print(item)"
   ]
  },
  {
   "cell_type": "markdown",
   "metadata": {},
   "source": [
    "______\n",
    "**Use range() to print all the even numbers from 0 to 10.**"
   ]
  },
  {
   "cell_type": "code",
   "execution_count": 3,
   "metadata": {},
   "outputs": [
    {
     "data": {
      "text/plain": [
       "[0, 2, 4, 6, 8]"
      ]
     },
     "execution_count": 3,
     "metadata": {},
     "output_type": "execute_result"
    }
   ],
   "source": [
    "[x for x in range(10) if x%2==0]"
   ]
  },
  {
   "cell_type": "code",
   "execution_count": 4,
   "metadata": {},
   "outputs": [
    {
     "name": "stdout",
     "output_type": "stream",
     "text": [
      "0\n",
      "2\n",
      "4\n",
      "6\n",
      "8\n"
     ]
    }
   ],
   "source": [
    "for x in range(10):\n",
    "    if x%2 == 0:\n",
    "        print(x)"
   ]
  },
  {
   "cell_type": "markdown",
   "metadata": {},
   "source": [
    "___\n",
    "**Use a List Comprehension to create a list of all numbers between 1 and 50 that are divisible by 3.**"
   ]
  },
  {
   "cell_type": "code",
   "execution_count": 5,
   "metadata": {},
   "outputs": [
    {
     "data": {
      "text/plain": [
       "[3, 6, 9, 12, 15, 18, 21, 24, 27, 30, 33, 36, 39, 42, 45, 48]"
      ]
     },
     "execution_count": 5,
     "metadata": {},
     "output_type": "execute_result"
    }
   ],
   "source": [
    "#Code in this cell\n",
    "[x for x in range(1,50) if x%3==0]"
   ]
  },
  {
   "cell_type": "code",
   "execution_count": 7,
   "metadata": {},
   "outputs": [
    {
     "data": {
      "text/plain": [
       "[0, 3, 6, 9, 12, 15, 18, 21, 24, 27, 30, 33, 36, 39, 42, 45, 48]"
      ]
     },
     "execution_count": 7,
     "metadata": {},
     "output_type": "execute_result"
    }
   ],
   "source": [
    "# Normal approach\n",
    "numb =[]\n",
    "for x in range(50):\n",
    "    if (x%3==0):\n",
    "        numb.append(x)\n",
    "        \n",
    "    else:\n",
    "        pass\n",
    "\n",
    "numb"
   ]
  },
  {
   "cell_type": "markdown",
   "metadata": {},
   "source": [
    "_____\n",
    "**Go through the string below and if the length of a word is even print \"even!\"**"
   ]
  },
  {
   "cell_type": "code",
   "execution_count": 8,
   "metadata": {},
   "outputs": [],
   "source": [
    "st = 'Print every word in this sentence that has an even number of letters'"
   ]
  },
  {
   "cell_type": "code",
   "execution_count": 9,
   "metadata": {},
   "outputs": [
    {
     "name": "stdout",
     "output_type": "stream",
     "text": [
      "length of the word 'word' \t is even\n",
      "length of the word 'in' \t is even\n",
      "length of the word 'this' \t is even\n",
      "length of the word 'sentence' \t is even\n",
      "length of the word 'that' \t is even\n",
      "length of the word 'an' \t is even\n",
      "length of the word 'even' \t is even\n",
      "length of the word 'number' \t is even\n",
      "length of the word 'of' \t is even\n"
     ]
    }
   ],
   "source": [
    "#Code in this cell\n",
    "list2 = st.split()\n",
    "\n",
    "for item in list2:\n",
    "    if len(item)%2 == 0:\n",
    "        print(\"length of the word '{}' \\t is even\".format(item))"
   ]
  },
  {
   "cell_type": "markdown",
   "metadata": {},
   "source": [
    "____\n",
    "**Write a program that prints the integers from 1 to 100. But for multiples of three print \"Fizz\" instead of the number, and for the multiples of five print \"Buzz\". For numbers which are multiples of both three and five print \"FizzBuzz\".**"
   ]
  },
  {
   "cell_type": "code",
   "execution_count": 17,
   "metadata": {},
   "outputs": [
    {
     "name": "stdout",
     "output_type": "stream",
     "text": [
      "The number 3 is a Fizz\n",
      "The number 5 is a Buzz\n",
      "The number 6 is a Fizz\n",
      "The number 9 is a Fizz\n",
      "The number 10 is a Buzz\n",
      "The number 12 is a Fizz\n",
      "The Number 15 is a FizzBuzz\n",
      "The number 18 is a Fizz\n",
      "The number 20 is a Buzz\n",
      "The number 21 is a Fizz\n",
      "The number 24 is a Fizz\n",
      "The number 25 is a Buzz\n",
      "The number 27 is a Fizz\n",
      "The Number 30 is a FizzBuzz\n",
      "The number 33 is a Fizz\n",
      "The number 35 is a Buzz\n",
      "The number 36 is a Fizz\n",
      "The number 39 is a Fizz\n",
      "The number 40 is a Buzz\n",
      "The number 42 is a Fizz\n",
      "The Number 45 is a FizzBuzz\n",
      "The number 48 is a Fizz\n",
      "The number 50 is a Buzz\n",
      "The number 51 is a Fizz\n",
      "The number 54 is a Fizz\n",
      "The number 55 is a Buzz\n",
      "The number 57 is a Fizz\n",
      "The Number 60 is a FizzBuzz\n",
      "The number 63 is a Fizz\n",
      "The number 65 is a Buzz\n",
      "The number 66 is a Fizz\n",
      "The number 69 is a Fizz\n",
      "The number 70 is a Buzz\n",
      "The number 72 is a Fizz\n",
      "The Number 75 is a FizzBuzz\n",
      "The number 78 is a Fizz\n",
      "The number 80 is a Buzz\n",
      "The number 81 is a Fizz\n",
      "The number 84 is a Fizz\n",
      "The number 85 is a Buzz\n",
      "The number 87 is a Fizz\n",
      "The Number 90 is a FizzBuzz\n",
      "The number 93 is a Fizz\n",
      "The number 95 is a Buzz\n",
      "The number 96 is a Fizz\n",
      "The number 99 is a Fizz\n"
     ]
    }
   ],
   "source": [
    "#Code in this cell\n",
    "for x in range(1,100):\n",
    "    if x%3 == 0 and x%5 == 0:\n",
    "        print(\"The Number {} is a FizzBuzz\".format(x))\n",
    "    elif x%3 == 0:\n",
    "        print(\"The number {} is a Fizz\".format(x))\n",
    "    elif x%5 == 0:\n",
    "        print(\"The number {} is a Buzz\".format(x))"
   ]
  },
  {
   "cell_type": "markdown",
   "metadata": {},
   "source": [
    "____\n",
    "**Use List Comprehension to create a list of the first letters of every word in the string below:**"
   ]
  },
  {
   "cell_type": "code",
   "execution_count": 11,
   "metadata": {},
   "outputs": [],
   "source": [
    "st = 'Create a list of the first letters of every word in this string'"
   ]
  },
  {
   "cell_type": "code",
   "execution_count": 12,
   "metadata": {},
   "outputs": [
    {
     "data": {
      "text/plain": [
       "['C', 'a', 'l', 'o', 't', 'f', 'l', 'o', 'e', 'w', 'i', 't', 's']"
      ]
     },
     "execution_count": 12,
     "metadata": {},
     "output_type": "execute_result"
    }
   ],
   "source": [
    "#Code in this cell\n",
    "[x[0] for x in [item for item in st.split()]]"
   ]
  },
  {
   "cell_type": "code",
   "execution_count": 14,
   "metadata": {},
   "outputs": [
    {
     "data": {
      "text/plain": [
       "['C', 'a', 'l', 'o', 't', 'f', 'l', 'o', 'e', 'w', 'i', 't', 's']"
      ]
     },
     "execution_count": 14,
     "metadata": {},
     "output_type": "execute_result"
    }
   ],
   "source": [
    "[item[0] for item in st.split()]"
   ]
  },
  {
   "cell_type": "markdown",
   "metadata": {},
   "source": [
    "### Great Job!"
   ]
  }
 ],
 "metadata": {
  "kernelspec": {
   "display_name": "Python 3",
   "language": "python",
   "name": "python3"
  },
  "language_info": {
   "codemirror_mode": {
    "name": "ipython",
    "version": 3
   },
   "file_extension": ".py",
   "mimetype": "text/x-python",
   "name": "python",
   "nbconvert_exporter": "python",
   "pygments_lexer": "ipython3",
   "version": "3.8.3"
  }
 },
 "nbformat": 4,
 "nbformat_minor": 1
}
