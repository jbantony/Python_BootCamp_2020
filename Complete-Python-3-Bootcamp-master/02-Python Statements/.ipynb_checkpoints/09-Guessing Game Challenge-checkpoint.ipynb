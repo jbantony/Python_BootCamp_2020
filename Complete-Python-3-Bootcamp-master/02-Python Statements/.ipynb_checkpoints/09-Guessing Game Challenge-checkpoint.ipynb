{
 "cells": [
  {
   "cell_type": "markdown",
   "metadata": {},
   "source": [
    "___\n",
    "\n",
    "<a href='https://www.udemy.com/user/joseportilla/'><img src='../Pierian_Data_Logo.png'/></a>\n",
    "___\n",
    "<center><em>Content Copyright by Pierian Data</em></center>"
   ]
  },
  {
   "cell_type": "markdown",
   "metadata": {},
   "source": [
    "# Guessing Game Challenge\n",
    "\n",
    "Let's use `while` loops to create a guessing game.\n",
    "\n",
    "The Challenge:\n",
    "\n",
    "Write a program that picks a random integer from 1 to 100, and has players guess the number. The rules are:\n",
    "\n",
    "1. If a player's guess is less than 1 or greater than 100, say \"OUT OF BOUNDS\"\n",
    "2. On a player's first turn, if their guess is\n",
    " * within 10 of the number, return \"WARM!\"\n",
    " * further than 10 away from the number, return \"COLD!\"\n",
    "3. On all subsequent turns, if a guess is \n",
    " * closer to the number than the previous guess return \"WARMER!\"\n",
    " * farther from the number than the previous guess, return \"COLDER!\"\n",
    "4. When the player's guess equals the number, tell them they've guessed correctly *and* how many guesses it took!\n",
    "\n",
    "You can try this from scratch, or follow the steps outlined below. A separate Solution notebook has been provided. Good luck!\n"
   ]
  },
  {
   "cell_type": "markdown",
   "metadata": {},
   "source": [
    "#### First, pick a random integer from 1 to 100 using the random module and assign it to a variable\n",
    "\n",
    "Note: `random.randint(a,b)` returns a random integer in range `[a, b]`, including both end points."
   ]
  },
  {
   "cell_type": "code",
   "execution_count": 6,
   "metadata": {},
   "outputs": [],
   "source": [
    "import random \n",
    "guess = random.randint(1,100)"
   ]
  },
  {
   "cell_type": "markdown",
   "metadata": {},
   "source": [
    "#### Next, print an introduction to the game and explain the rules"
   ]
  },
  {
   "cell_type": "code",
   "execution_count": 7,
   "metadata": {},
   "outputs": [
    {
     "name": "stdout",
     "output_type": "stream",
     "text": [
      "The rules of the games are as above\n"
     ]
    }
   ],
   "source": [
    "print('The rules of the games are as above')"
   ]
  },
  {
   "cell_type": "markdown",
   "metadata": {},
   "source": [
    "#### Create a list to store guesses\n",
    "\n",
    "Hint: zero is a good placeholder value. It's useful because it evaluates to \"False\""
   ]
  },
  {
   "cell_type": "code",
   "execution_count": 11,
   "metadata": {},
   "outputs": [],
   "source": [
    "guessed_list =[]"
   ]
  },
  {
   "cell_type": "code",
   "execution_count": 9,
   "metadata": {},
   "outputs": [
    {
     "data": {
      "text/plain": [
       "39"
      ]
     },
     "execution_count": 9,
     "metadata": {},
     "output_type": "execute_result"
    }
   ],
   "source": [
    "guess"
   ]
  },
  {
   "cell_type": "markdown",
   "metadata": {},
   "source": [
    "#### Write a `while` loop that asks for a valid guess. Test it a few times to make sure it works."
   ]
  },
  {
   "cell_type": "code",
   "execution_count": 12,
   "metadata": {},
   "outputs": [
    {
     "name": "stdout",
     "output_type": "stream",
     "text": [
      "Give it a Guess...!! \n",
      "Between 0 and 100 : 25\n",
      "Cold..!!\n",
      "Give it a Guess...!! \n",
      "Between 0 and 100 : 35\n",
      "Warm..!!\n",
      "And you are getting Warmer....!\n",
      "Give it a Guess...!! \n",
      "Between 0 and 100 : 30\n",
      "Warm..!!\n",
      "And you are getting Colder....!\n",
      "Give it a Guess...!! \n",
      "Between 0 and 100 : 36\n",
      "Warm..!!\n",
      "And you are getting Warmer....!\n",
      "Give it a Guess...!! \n",
      "Between 0 and 100 : 40\n",
      "Warm..!!\n",
      "And you are getting Warmer....!\n",
      "Give it a Guess...!! \n",
      "Between 0 and 100 : 42\n",
      "Warm..!!\n",
      "And you are getting Colder....!\n",
      "Give it a Guess...!! \n",
      "Between 0 and 100 : 38\n",
      "Warm..!!\n",
      "And you are getting Warmer....!\n",
      "Give it a Guess...!! \n",
      "Between 0 and 100 : 41\n",
      "Warm..!!\n",
      "And you are getting Colder....!\n",
      "Give it a Guess...!! \n",
      "Between 0 and 100 : 39\n",
      "you guessed it correct in 8 guesses\n",
      "Your guesses are:  [25, 35, 30, 36, 40, 42, 38, 41]\n"
     ]
    }
   ],
   "source": [
    "while True:\n",
    "    user_guess = int(input(\"Give it a Guess...!! \\nBetween 0 and 100 : \"))\n",
    "    if user_guess == guess:\n",
    "        print(\"you guessed it correct in {} guesses\".format(len(guessed_list)))\n",
    "        print(\"Your guesses are: \", guessed_list)\n",
    "        break\n",
    "    elif abs(user_guess-guess) <= 10 :\n",
    "        print('Warm..!!')\n",
    "        guessed_list.append(user_guess)\n",
    "        if len(guessed_list):\n",
    "            if abs(user_guess-guess)> abs(guessed_list[-2]-guess):\n",
    "                print('And you are getting Colder....!')\n",
    "            else:\n",
    "                print('And you are getting Warmer....!')\n",
    "        \n",
    "    elif abs(user_guess- guess)>10 :\n",
    "        print('Cold..!!')\n",
    "        guessed_list.append(user_guess)\n",
    "\n",
    "        \n",
    "    "
   ]
  },
  {
   "cell_type": "markdown",
   "metadata": {},
   "source": [
    "#### Write a `while` loop that compares the player's guess to our number. If the player guesses correctly, break from the loop. Otherwise, tell the player if they're warmer or colder, and continue asking for guesses.\n",
    "\n",
    "Some hints:\n",
    "* it may help to sketch out all possible combinations on paper first!\n",
    "* you can use the `abs()` function to find the positive difference between two numbers\n",
    "* if you append all new guesses to the list, then the previous guess is given as `guesses[-2]`"
   ]
  },
  {
   "cell_type": "code",
   "execution_count": null,
   "metadata": {
    "collapsed": true
   },
   "outputs": [],
   "source": [
    "while True:\n",
    "\n",
    "    # we can copy the code from above to take an input\n",
    "\n",
    "    pass"
   ]
  },
  {
   "cell_type": "markdown",
   "metadata": {},
   "source": [
    "That's it! You've just programmed your first game!\n",
    "\n",
    "In the next section we'll learn how to turn some of these repetitive actions into *functions* that can be called whenever we need them."
   ]
  },
  {
   "cell_type": "markdown",
   "metadata": {},
   "source": [
    "### Good Job!"
   ]
  }
 ],
 "metadata": {
  "kernelspec": {
   "display_name": "Python 3",
   "language": "python",
   "name": "python3"
  },
  "language_info": {
   "codemirror_mode": {
    "name": "ipython",
    "version": 3
   },
   "file_extension": ".py",
   "mimetype": "text/x-python",
   "name": "python",
   "nbconvert_exporter": "python",
   "pygments_lexer": "ipython3",
   "version": "3.7.7"
  }
 },
 "nbformat": 4,
 "nbformat_minor": 2
}
