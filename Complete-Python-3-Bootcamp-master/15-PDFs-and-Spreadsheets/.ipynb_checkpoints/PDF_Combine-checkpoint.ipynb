{
 "cells": [
  {
   "cell_type": "markdown",
   "metadata": {},
   "source": [
    "# A program to combine PDF Files"
   ]
  },
  {
   "cell_type": "code",
   "execution_count": 1,
   "metadata": {},
   "outputs": [],
   "source": [
    "# note the capitalization\n",
    "import PyPDF2"
   ]
  },
  {
   "cell_type": "code",
   "execution_count": 2,
   "metadata": {},
   "outputs": [],
   "source": [
    "import shutil\n",
    "import os"
   ]
  },
  {
   "cell_type": "markdown",
   "metadata": {},
   "source": [
    "## The path is given PDFs\n",
    "\n",
    "Similar to the csv library, we open a pdf, then create a reader object for it. Notice how we use the binary method of reading , 'rb', instead of just 'r'."
   ]
  },
  {
   "cell_type": "code",
   "execution_count": 4,
   "metadata": {},
   "outputs": [],
   "source": [
    "# Assumptions:\n",
    "\n",
    "# 1. The pdf are single page\n",
    "# 2. All the pdfs to combine are saved in the same folder. Only the pdf files are there in the folder\n",
    "# 3. The files are named such a way that, the file order matches with the order which they need to combine."
   ]
  },
  {
   "cell_type": "code",
   "execution_count": 5,
   "metadata": {},
   "outputs": [],
   "source": [
    "### TODo: Modify this program as a single function"
   ]
  },
  {
   "cell_type": "code",
   "execution_count": 3,
   "metadata": {},
   "outputs": [],
   "source": [
    "#Read file\n",
    "Path = r'C:\\Jibi\\person\\DFKI\\2020\\combine'"
   ]
  },
  {
   "cell_type": "code",
   "execution_count": 6,
   "metadata": {},
   "outputs": [],
   "source": [
    "file_name =[]"
   ]
  },
  {
   "cell_type": "code",
   "execution_count": 7,
   "metadata": {},
   "outputs": [
    {
     "name": "stdout",
     "output_type": "stream",
     "text": [
      "C:\\Jibi\\person\\DFKI\\2020\\combine\\2020_Dez.pdf\n",
      "C:\\Jibi\\person\\DFKI\\2020\\combine\\2020_Nov.pdf\n",
      "C:\\Jibi\\person\\DFKI\\2020\\combine\\2020_Okt.pdf\n"
     ]
    }
   ],
   "source": [
    "# Load the pdf files in the folder into a list\n",
    "for root, dirs, files in os.walk(Path):\n",
    "    for name in files:\n",
    "        file = os.path.join(root, name)\n",
    "        print(file)\n",
    "        file_name.append(file)\n",
    "        "
   ]
  },
  {
   "cell_type": "code",
   "execution_count": 8,
   "metadata": {},
   "outputs": [
    {
     "data": {
      "text/plain": [
       "['C:\\\\Jibi\\\\person\\\\DFKI\\\\2020\\\\combine\\\\2020_Dez.pdf',\n",
       " 'C:\\\\Jibi\\\\person\\\\DFKI\\\\2020\\\\combine\\\\2020_Nov.pdf',\n",
       " 'C:\\\\Jibi\\\\person\\\\DFKI\\\\2020\\\\combine\\\\2020_Okt.pdf']"
      ]
     },
     "execution_count": 8,
     "metadata": {},
     "output_type": "execute_result"
    }
   ],
   "source": [
    "file_name"
   ]
  },
  {
   "cell_type": "code",
   "execution_count": 9,
   "metadata": {},
   "outputs": [],
   "source": [
    "# A file to combine files.\n",
    "pdf_output = open(\"Combined.pdf\",\"wb\")"
   ]
  },
  {
   "cell_type": "code",
   "execution_count": 10,
   "metadata": {},
   "outputs": [],
   "source": [
    "# PDF writer object\n",
    "pdf_writer = PyPDF2.PdfFileWriter()"
   ]
  },
  {
   "cell_type": "code",
   "execution_count": 12,
   "metadata": {},
   "outputs": [],
   "source": [
    "for file in file_name:\n",
    "    f = open(file,'rb')\n",
    "    pdf_reader = PyPDF2.PdfFileReader(f)\n",
    "    \n",
    "    # Assume the PDFs are having only one page\n",
    "    for n in range(pdf_reader.numPages):\n",
    "        page = pdf_reader.getPage(n)\n",
    "        pdf_writer.addPage(page)\n",
    "    \n",
    "        # Write the page to the output PDF\n",
    "        pdf_writer.write(pdf_output)\n",
    "    \n",
    "    f.close()\n",
    "    "
   ]
  },
  {
   "cell_type": "code",
   "execution_count": 14,
   "metadata": {},
   "outputs": [],
   "source": [
    "# Check the page number after opening the file.\n",
    "\n",
    "#pdf_reader = PyPDF2.PdfFileReader(f)\n",
    "#pdf_reader.numPages"
   ]
  },
  {
   "cell_type": "code",
   "execution_count": 15,
   "metadata": {},
   "outputs": [],
   "source": [
    "#f.close()"
   ]
  }
 ],
 "metadata": {
  "kernelspec": {
   "display_name": "Python 3",
   "language": "python",
   "name": "python3"
  },
  "language_info": {
   "codemirror_mode": {
    "name": "ipython",
    "version": 3
   },
   "file_extension": ".py",
   "mimetype": "text/x-python",
   "name": "python",
   "nbconvert_exporter": "python",
   "pygments_lexer": "ipython3",
   "version": "3.8.3"
  }
 },
 "nbformat": 4,
 "nbformat_minor": 2
}
